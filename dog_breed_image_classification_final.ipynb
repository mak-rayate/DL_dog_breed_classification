version https://git-lfs.github.com/spec/v1
oid sha256:5f969bba8df88c9592cf28e8f682d44e875c8b260da4fcea8c91b65ab4da8714
size 26258988
